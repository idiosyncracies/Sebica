{
 "cells": [
  {
   "cell_type": "markdown",
   "id": "1ae9b73d",
   "metadata": {},
   "source": [
    "## crop and resize Div2k dataset:\n",
    "1. 找出所有高度或宽度大于等于2040的图片， 如果高度>宽度的， 旋转90度\n",
    "2. 在基础上， 找出所有宽度大于等于1152的图片\n",
    "3. CROP， 宽度2040, 高度1152\n",
    "4. 保存 变换好的图片（维持原来的PNG格式）， 图片质量不要压缩， 保存在HR子目录中\n",
    "5. 在以上的基础上把图片高度和宽度各为原来的1/4, RESIZE， 图片压缩用CV2的默认压缩率， 图片保存在LR子目录下"
   ]
  },
  {
   "cell_type": "code",
   "execution_count": 3,
   "id": "df583a50",
   "metadata": {},
   "outputs": [
    {
     "name": "stdout",
     "output_type": "stream",
     "text": [
      "Done!\n"
     ]
    }
   ],
   "source": [
    "import os\n",
    "from PIL import Image\n",
    "import cv2\n",
    "import numpy as np\n",
    "\n",
    "def pil_to_cv(image):\n",
    "    # Convert PIL image to OpenCV format (BGR)\n",
    "    return cv2.cvtColor(np.array(image), cv2.COLOR_RGB2BGR)\n",
    "\n",
    "def cv_to_pil(image):\n",
    "    # Convert OpenCV image to PIL format (RGB)\n",
    "    return Image.fromarray(cv2.cvtColor(image, cv2.COLOR_BGR2RGB))\n",
    "\n",
    "def process_images(directory_path, hr_output_directory, lr_output_directory):\n",
    "    if not os.path.exists(hr_output_directory):\n",
    "        os.makedirs(hr_output_directory)\n",
    "    if not os.path.exists(lr_output_directory):\n",
    "        os.makedirs(lr_output_directory)\n",
    "\n",
    "    for root, dirs, files in os.walk(directory_path):\n",
    "        for file in files:\n",
    "            file_path = os.path.join(root, file)\n",
    "            if file.lower().endswith('.png'):\n",
    "                try:\n",
    "                    with Image.open(file_path) as img:\n",
    "                        width, height = img.size\n",
    "\n",
    "                        if (height >= 2040 and width>=1152) or (width >= 2040 and height >=1152):\n",
    "                            if height > width:\n",
    "                                img = img.rotate(90, expand=True)\n",
    "                                width, height = img.size\n",
    "\n",
    "                        if width >= 2040 and height >= 1152:\n",
    "                            # 裁剪的目标尺寸\n",
    "                            new_width = 2040\n",
    "                            new_height = 1152\n",
    "\n",
    "                            # 计算裁剪区域\n",
    "                            left = (width - new_width) / 2\n",
    "                            top = (height - new_height) / 2\n",
    "                            right = (width + new_width) / 2\n",
    "                            bottom = (height + new_height) / 2\n",
    "\n",
    "                            # 裁剪图像\n",
    "                            img_cropped = img.crop((left, top, right, bottom))\n",
    "\n",
    "                            # 保存裁剪后的高分辨率图像\n",
    "                            hr_output_path = os.path.join(hr_output_directory, file)\n",
    "                            img_cropped.save(hr_output_path, format='PNG')\n",
    "\n",
    "                            # 将 PIL 图像转换为 OpenCV 格式以便缩放\n",
    "                            img_cv = pil_to_cv(img_cropped)\n",
    "\n",
    "                            # 缩小图像（缩小 4 倍）\n",
    "                            new_size = (new_width // 4, new_height // 4)\n",
    "                            img_resized = cv2.resize(img_cv, new_size, interpolation=cv2.INTER_LINEAR)\n",
    "\n",
    "                            # 将缩小后的图像转换回 PIL 格式以便保存\n",
    "                            img_resized_pil = cv_to_pil(img_resized)\n",
    "\n",
    "                            # 保存缩小后的低分辨率图像\n",
    "                            lr_output_path = os.path.join(lr_output_directory, file)\n",
    "                            img_resized_pil.save(lr_output_path, format='PNG')\n",
    "\n",
    "\n",
    "                except Exception as e:\n",
    "                    print(f\"Error processing {file_path}: {e}\")\n",
    "\n",
    "\n",
    "# Define the paths\n",
    "directory_path = '/home/royliu/Documents/datasets/Flickr2K/Flickr2K_HR'\n",
    "hr_output_directory = os.path.join(directory_path, '../own/train/HR')\n",
    "lr_output_directory = os.path.join(directory_path, '../own/train/LR')\n",
    "\n",
    "# Process images\n",
    "process_images(directory_path, hr_output_directory, lr_output_directory)\n",
    "print('Done!')"
   ]
  },
  {
   "cell_type": "code",
   "execution_count": null,
   "id": "55f7e696",
   "metadata": {},
   "outputs": [],
   "source": []
  },
  {
   "cell_type": "code",
   "execution_count": null,
   "id": "b4fc88fb",
   "metadata": {},
   "outputs": [],
   "source": []
  },
  {
   "cell_type": "code",
   "execution_count": null,
   "id": "3f569cec",
   "metadata": {},
   "outputs": [],
   "source": []
  },
  {
   "cell_type": "markdown",
   "id": "f2e4a0d6",
   "metadata": {},
   "source": [
    "## check images sizes in the folder"
   ]
  },
  {
   "cell_type": "code",
   "execution_count": 1,
   "id": "8fc87eeb",
   "metadata": {},
   "outputs": [
    {
     "name": "stdout",
     "output_type": "stream",
     "text": [
      "唯一的图片尺寸:\n",
      "宽度: 1140 高度: 2040\n",
      "宽度: 1428 高度: 2028\n",
      "宽度: 1524 高度: 2040\n",
      "宽度: 1596 高度: 1200\n",
      "宽度: 1608 高度: 1200\n",
      "宽度: 1956 高度: 2040\n",
      "宽度: 2040 高度: 1344\n",
      "宽度: 2040 高度: 1356\n",
      "宽度: 2040 高度: 1524\n",
      "宽度: 2040 高度: 1584\n",
      "宽度: 2040 高度: 2040\n"
     ]
    }
   ],
   "source": [
    "import os\n",
    "from PIL import Image\n",
    "\n",
    "def get_image_size(image_path):\n",
    "    with Image.open(image_path) as img:\n",
    "        return img.size  # Returns a tuple (width, height)\n",
    "\n",
    "def list_unique_image_sizes(directory_path):\n",
    "    sizes = set()\n",
    "    \n",
    "    for root, dirs, files in os.walk(directory_path):\n",
    "        for file in files:\n",
    "            file_path = os.path.join(root, file)\n",
    "            if file.lower().endswith(('.png', '.jpg', '.jpeg', '.bmp', '.gif')):\n",
    "                try:\n",
    "                    size = get_image_size(file_path)\n",
    "                    sizes.add(size)\n",
    "                except Exception as e:\n",
    "                    print(f\"Error processing {file_path}: {e}\")\n",
    "    \n",
    "    return sizes\n",
    "\n",
    "directory_path = '/home/royliu/Documents/datasets/Flickr2K/val/HR'\n",
    "unique_sizes = list_unique_image_sizes(directory_path)\n",
    "\n",
    "print(\"唯一的图片尺寸:\")\n",
    "for size in sorted(unique_sizes):\n",
    "    print(f\"宽度: {size[0]} 高度: {size[1]}\")\n"
   ]
  },
  {
   "cell_type": "code",
   "execution_count": 4,
   "id": "6d3d2410",
   "metadata": {},
   "outputs": [
    {
     "name": "stdout",
     "output_type": "stream",
     "text": [
      "唯一的图片尺寸:\n",
      "宽度: 2040 高度: 1152\n"
     ]
    }
   ],
   "source": [
    "import os\n",
    "from PIL import Image\n",
    "\n",
    "def get_image_size(image_path):\n",
    "    with Image.open(image_path) as img:\n",
    "        return img.size  # Returns a tuple (width, height)\n",
    "\n",
    "def list_unique_image_sizes(directory_path):\n",
    "    sizes = set()\n",
    "    \n",
    "    for root, dirs, files in os.walk(directory_path):\n",
    "        for file in files:\n",
    "            file_path = os.path.join(root, file)\n",
    "            if file.lower().endswith(('.png', '.jpg', '.jpeg', '.bmp', '.gif')):\n",
    "                try:\n",
    "                    size = get_image_size(file_path)\n",
    "                    sizes.add(size)\n",
    "                except Exception as e:\n",
    "                    print(f\"Error processing {file_path}: {e}\")\n",
    "    \n",
    "    return sizes\n",
    "\n",
    "directory_path = '/home/royliu/Documents/datasets/Flickr2K/own/train/HR'\n",
    "unique_sizes = list_unique_image_sizes(directory_path)\n",
    "\n",
    "print(\"唯一的图片尺寸:\")\n",
    "for size in sorted(unique_sizes):\n",
    "    print(f\"宽度: {size[0]} 高度: {size[1]}\")\n"
   ]
  },
  {
   "cell_type": "code",
   "execution_count": null,
   "id": "bec13d94",
   "metadata": {},
   "outputs": [],
   "source": []
  },
  {
   "cell_type": "code",
   "execution_count": null,
   "id": "f9fe3b3e",
   "metadata": {},
   "outputs": [],
   "source": []
  }
 ],
 "metadata": {
  "kernelspec": {
   "display_name": "Python 3 (ipykernel)",
   "language": "python",
   "name": "python3"
  },
  "language_info": {
   "codemirror_mode": {
    "name": "ipython",
    "version": 3
   },
   "file_extension": ".py",
   "mimetype": "text/x-python",
   "name": "python",
   "nbconvert_exporter": "python",
   "pygments_lexer": "ipython3",
   "version": "3.10.13"
  }
 },
 "nbformat": 4,
 "nbformat_minor": 5
}
