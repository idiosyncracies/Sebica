{
 "cells": [
  {
   "cell_type": "markdown",
   "id": "e5c47d1c",
   "metadata": {},
   "source": [
    "## Convert images to train, test, val dataset, each contains GT and LR (Low Resolution)"
   ]
  },
  {
   "cell_type": "code",
   "execution_count": 1,
   "id": "346a9f91",
   "metadata": {},
   "outputs": [
    {
     "name": "stdout",
     "output_type": "stream",
     "text": [
      "['old_test_640_small', 'train_256', 'url_kaggle.txt', 'sec5', 'sec2', 'sec7', 'old_test_1280to320', '.~lock.scenes.csv#', 'sec8', 'seca', 'val_labels_selected', 'sec3', 'train_640', 'secb', 'val_640', 'val_256', 'val_1280to320', 'sec9', 'sec6', 'scenes.csv', 'sec4', 'train_1280to320', 'old_test_640', 'sec1', 'secc']\n"
     ]
    }
   ],
   "source": [
    "import os\n",
    "root = '/home/royliu/Documents/datasets/'\n",
    "directory = os.path.join(root,'Traffic_Aerial_Images_for_Vehicle_Detection')\n",
    "files_and_dirs = os.listdir(directory)\n",
    "\n",
    "# Print the list of files and directories\n",
    "print(files_and_dirs)"
   ]
  },
  {
   "cell_type": "code",
   "execution_count": 2,
   "id": "3fcc7046",
   "metadata": {},
   "outputs": [],
   "source": [
    "val_folders = ['sec6','sec9', 'secc']\n",
    "train_folders =  ['sec1','sec2','sec3','sec4', 'sec7','sec8','seca',    \n",
    "                  'sec5', 'secb']"
   ]
  },
  {
   "cell_type": "code",
   "execution_count": 4,
   "id": "c45d5a2f",
   "metadata": {},
   "outputs": [
    {
     "name": "stdout",
     "output_type": "stream",
     "text": [
      "Conversion done!, total 1462 images\n"
     ]
    }
   ],
   "source": [
    "import os\n",
    "from glob import glob\n",
    "import cv2 \n",
    "import shutil\n",
    "\n",
    "data_type = 'val'  ## select here, 'test', 'train', 'val'\n",
    "directory = os.path.join(root, 'Traffic_Aerial_Images_for_Vehicle_Detection')\n",
    "\n",
    "if data_type == 'val':\n",
    "    source_folders = ['sec6','sec9', 'sec2']\n",
    "    target_folder = os.path.join(directory,'./val_1280to320')\n",
    "# elif data_type == 'test':\n",
    "#     source_folders = ['sec5', 'secb']\n",
    "#     target_folder = '../data/Traffic_Aerial_Images_for_Vehicle_Detection/val_640'\n",
    "else: # data_type =='train':\n",
    "    source_folders = ['sec2','sec3','sec4', 'sec7','sec8','seca', 'sec5', 'secb']\n",
    "    target_folder = os.path.join(directory,'./train_1280to320')\n",
    "\n",
    "\n",
    "target_size_GT = (1280, 720)  # (width, height)\n",
    "target_size_LR = (320, 180)  # (width, height)\n",
    "image_paths = []\n",
    "params = [cv2.IMWRITE_PNG_COMPRESSION, 1] ## 0-9 ， 9: ~800K, 0(no compression): 2.8M， 3（DEFAULT）： 1.0m\n",
    "\n",
    "for folder in source_folders:\n",
    "    folder_path = os.path.join(directory, folder)\n",
    "    images = glob(os.path.join(folder_path, '*.png'))\n",
    "    image_paths.extend(images)\n",
    "    \n",
    "    resized_images_GT_dir = os.path.join(target_folder,'GT')\n",
    "    if not os.path.exists(resized_images_GT_dir):\n",
    "        os.makedirs(resized_images_GT_dir)\n",
    "    resized_images_LR_dir = os.path.join(target_folder,'LR')\n",
    "    if not os.path.exists(resized_images_LR_dir):\n",
    "        os.makedirs(resized_images_LR_dir)\n",
    "\n",
    "    for image_file in image_paths:                          \n",
    "        img = cv2.imread(image_file)        \n",
    "        \n",
    "#         ## HR image\n",
    "#         # Check if the image size matches the target size\n",
    "#         if img.shape[:2] == target_size_GT:\n",
    "#             # If it matches, just copy the file\n",
    "#             shutil.copy(image_file, resized_images_GT_dir)\n",
    "#         else:\n",
    "#             # Otherwise, resize the image\n",
    "#             resized_img = cv2.resize(img, target_size_GT)\n",
    "#             resized_image_path = os.path.join(resized_images_GT_dir, os.path.basename(image_file))\n",
    "#             cv2.imwrite(resized_image_path, resized_img, params)\n",
    "            \n",
    "        ## LR image\n",
    "        resized_img = cv2.resize(img, target_size_LR)\n",
    "        resized_image_path = os.path.join(resized_images_LR_dir, os.path.basename(image_file))\n",
    "        cv2.imwrite(resized_image_path, resized_img)\n",
    "\n",
    "# print(len(image_paths))\n",
    "print(f'Conversion done!, total {len(image_paths)} images')\n"
   ]
  },
  {
   "cell_type": "code",
   "execution_count": null,
   "id": "1329e530",
   "metadata": {},
   "outputs": [],
   "source": []
  },
  {
   "cell_type": "code",
   "execution_count": null,
   "id": "81a5e0f9",
   "metadata": {},
   "outputs": [],
   "source": []
  }
 ],
 "metadata": {
  "kernelspec": {
   "display_name": "Python 3 (ipykernel)",
   "language": "python",
   "name": "python3"
  },
  "language_info": {
   "codemirror_mode": {
    "name": "ipython",
    "version": 3
   },
   "file_extension": ".py",
   "mimetype": "text/x-python",
   "name": "python",
   "nbconvert_exporter": "python",
   "pygments_lexer": "ipython3",
   "version": "3.10.13"
  }
 },
 "nbformat": 4,
 "nbformat_minor": 5
}
